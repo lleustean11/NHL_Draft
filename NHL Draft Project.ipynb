{
 "cells": [
  {
   "cell_type": "markdown",
   "metadata": {},
   "source": [
    "Step 1: Import necessary libraries"
   ]
  },
  {
   "cell_type": "code",
   "execution_count": 3,
   "metadata": {},
   "outputs": [],
   "source": [
    "import pandas as pd\n",
    "import numpy as np\n",
    "from matplotlib import pyplot as plt\n",
    "import os"
   ]
  },
  {
   "cell_type": "markdown",
   "metadata": {},
   "source": [
    "Step 2: Read all xlsx files into one general dataframe"
   ]
  },
  {
   "cell_type": "code",
   "execution_count": null,
   "metadata": {},
   "outputs": [],
   "source": [
    "path_1 = \"/Users/lucaleustean/Documents/Projects/NHL Stats/All Stats\"\n",
    "files_list = os.listdir(path_1)\n",
    "files_list.remove('.DS_Store')\n",
    "\n",
    "'''Code below is meant to sort the file names to make sure they are in order from 1-61, \n",
    "otherwise file 2 comes after file 19'''\n",
    "start = files_list[0][:20]\n",
    "temp = [int(elem[20:-5]) for elem in files_list]\n",
    "temp_sorted = sorted(temp)\n",
    "files_list = [start + str(elem)+\".xlsx\" for elem in temp_sorted]\n",
    "\n",
    "\n",
    "stats_df = pd.read_excel((path_1 + \"/\" + files_list[0]))\n",
    "for file in files_list[1:]:\n",
    "    path_2 = path_1 + \"/\" + file\n",
    "    df = pd.read_excel(path_2)\n",
    "    frames = [stats_df, df]\n",
    "    stats_df = pd.concat(frames)\n",
    "\n",
    "stats_df = stats_df[stats_df['Draft Yr'] != '--'].reset_index() #removing all rows of data in which player was not drafted\n",
    "\n",
    "for stat in ['G', 'A', 'P', 'GP']:\n",
    "    int_stat = stats_df[stat].apply(lambda x: str2int(x))\n",
    "    stats_df.loc[:, stat] = int_stat\n",
    "\n",
    "#print(stats_df.head(20))"
   ]
  },
  {
   "cell_type": "code",
   "execution_count": null,
   "metadata": {},
   "outputs": [],
   "source": [
    "def points(stats_df, yr):\n",
    "    \n",
    "    #information about the number of players that draft year\n",
    "    yr_df = stats_df[stats_df['Draft Yr'] == yr]\n",
    "    player_count = yr_df.groupby('Round').Player.count.reset_index()\n",
    "    player_count = player_count.Player.values\n",
    "    \n",
    "    '''\n",
    "    #making sure all string values are converted to integer so they can be summed\n",
    "    int_p = yr_df.P.apply(lambda x: str2int(x))\n",
    "    yr_df.iloc[:, 'P'] = int_p\n",
    "    int_gp = yr_df.GP.apply(lambda x: str2int(x))\n",
    "    yr_df.iloc[:, 'GP'] = int_gp\n",
    "    '''\n",
    "    \n",
    "    #information about point totals from each round\n",
    "    points = yr_df.groupby('Round').P.sum().reset_index()\n",
    "    tot_points = points.P.values\n",
    "    \n",
    "    ppg = []\n",
    "    for round_no in points.Round.values:\n",
    "        round_yr_df = yr_df[yr_df.Round == round_no]\n",
    "        ppg_sum=0\n",
    "        for i in range(len(round_yr_df)):\n",
    "            player_ppg = round_yr_df.loc[i, 'P'].values/yr_df.loc[i, 'GP'].values\n",
    "            ppg_sum += player_ppg\n",
    "        ppg_round_avg = ppg_sum/player_count[round_no]\n",
    "        ppg = ppg.append[ppg_round_avg]\n",
    "        \n",
    "        \n",
    "    "
   ]
  },
  {
   "cell_type": "markdown",
   "metadata": {},
   "source": [
    "Step 3: Create a function to obtain the wanted stats from the specific draft class"
   ]
  },
  {
   "cell_type": "code",
   "execution_count": 285,
   "metadata": {},
   "outputs": [],
   "source": [
    "def stat_wanted(stats_df, yr, stat, top_no=1):\n",
    "    \n",
    "    stat = stat.upper()\n",
    "    if stat == 'GAMES PLAYED':\n",
    "        stat = 'GP'\n",
    "    elif stat == 'GOALS':\n",
    "        stat = 'G'\n",
    "    elif stat == 'ASSISTS':\n",
    "        stat = 'A'\n",
    "    elif stat == 'POINTS':\n",
    "        stat = 'P'\n",
    "    \n",
    "    yr_df = stats_df[stats_df['Draft Yr'] == yr]\n",
    "    player_count = yr_df.groupby('Round').Player.count().reset_index()\n",
    "    player_count = player_count.Player.values\n",
    "    \n",
    "    \n",
    "    stat_series = yr_df.groupby('Round')[stat].sum().reset_index()\n",
    "    stat_values = stat_series[stat].values\n",
    "    avg = stat_values/player_count\n",
    "    \n",
    "    ordered_yr_df = yr_df.sort_values(stat, ascending = False).reset_index()\n",
    "    leader_stats = ordered_yr_df.loc[0:top_no, ['Player', 'Round', 'Overall',stat]]\n",
    "    leader_stats = leader_stats.reindex(list(range(1,top_no+1)))\n",
    "    #leader = leader_stats.Player.values\n",
    "    #draft_round = leader_stats.Round.values\n",
    "    #leader_stat = leader_stats[stat].values\n",
    "    return [stat_values, player_count, leader_stats]\n",
    "    "
   ]
  },
  {
   "cell_type": "markdown",
   "metadata": {},
   "source": [
    "Step 4: Define Bar Graph Functions to display your data"
   ]
  },
  {
   "cell_type": "code",
   "execution_count": 329,
   "metadata": {},
   "outputs": [],
   "source": [
    "def stats_bar(totals, stat, yr):\n",
    "    \n",
    "    stat = stat[0].upper() + stat[1:].lower()\n",
    "   #print(player_count[0] == 1)\n",
    "    #if all(player_count) != 1:\n",
    "       # player_count = [1 for i in range(len(totals))]\n",
    "    \n",
    "    #print(player_count)\n",
    "    #avg = totals/player_count\n",
    "    \n",
    "    ax = plt.subplot()\n",
    "    plt.bar(range(len(totals)), totals)\n",
    "    ax.set_xticks(range(len(totals)))\n",
    "    ax.set_xticklabels(range(1,len(totals)+1))\n",
    "\n",
    "   \n",
    "    title = str(yr) + ' NHL Entry Draft ' + stat + ' Totals by Round'\n",
    "    \n",
    "    plt.title(title)\n",
    "    plt.xlabel('Round'), plt.ylabel(stat)\n",
    "    plt.show()\n",
    "    \n",
    "def avg_stats_bar(totals, player_count, stat, yr):\n",
    "    \n",
    "    stat = stat[0].upper() + stat[1:].lower()\n",
    "    avg = totals/player_count\n",
    "    \n",
    "    ax = plt.subplot()\n",
    "    avg_bar = plt.bar(range(len(avg)), avg, color = 'r')\n",
    "    ax.set_xticks(range(len(avg)))\n",
    "    ax.set_xticklabels(range(1,len(avg)+1))\n",
    "\n",
    "\n",
    "    title = str(yr) + ' NHL Entry Draft ' + stat + ' Averages by Round'\n",
    "    plt.title(title)\n",
    "    plt.xlabel('Round'), plt.ylabel(stat + ' Per Player')\n",
    "    plt.show()"
   ]
  },
  {
   "cell_type": "code",
   "execution_count": 334,
   "metadata": {},
   "outputs": [
    {
     "data": {
      "image/png": "[encoded data removed]",
      "text/plain": [
       "<Figure size 432x288 with 1 Axes>"
      ]
     },
     "metadata": {
      "needs_background": "light"
     },
     "output_type": "display_data"
    },
    {
     "data": {
      "image/png": "[encoded data removed]",
      "text/plain": [
       "<Figure size 432x288 with 1 Axes>"
      ]
     },
     "metadata": {
      "needs_background": "light"
     },
     "output_type": "display_data"
    },
    {
     "name": "stdout",
     "output_type": "stream",
     "text": [
      "goals Leaders\n",
      "\n",
      "               Player Round Overall    G\n",
      "1        Dany Heatley     1       2  372\n",
      "2      Scott Hartnell     1       6  327\n",
      "3     Justin Williams     1      28  320\n",
      "4    Antoine Vermette     2      55  228\n",
      "5          Brad Boyes     1      24  211\n",
      "6         Alex Frolov     1      20  175\n",
      "7        Raffi Torres     1       5  137\n",
      "8   Lubomir Visnovsky     4     118  128\n",
      "9           Steve Ott     1      25  109\n",
      "10      Dominic Moore     3      95  106\n"
     ]
    }
   ],
   "source": [
    "yr = 2000\n",
    "stat = 'goals'\n",
    "top_list = 10\n",
    "\n",
    "(totals, player_count, leader) = stat_wanted(stats_df, yr, stat, top_list)\n",
    "\n",
    "#print(player_count)\n",
    "stats_bar(totals, stat, yr)\n",
    "avg_stats_bar(totals, player_count, stat, yr)\n",
    "\n",
    "\n",
    "\n",
    "print('{} Leaders\\n'.format(stat))\n",
    "print(leader)\n",
    "#print('{} {} Leader:\\t{}\\nRound Drafted:\\t{}\\n{}: {}'.format(yr, stat, leader[0][0], leader[1][0], stat, leader[2][0]))"
   ]
  },
  {
   "cell_type": "code",
   "execution_count": 168,
   "metadata": {},
   "outputs": [],
   "source": [
    "def str2int(val):\n",
    "    if type(val) == int:\n",
    "        #print(type(val))\n",
    "        return val\n",
    "    elif (',' in val):\n",
    "        #print(val)\n",
    "        temp_vals = val.split(sep=',')\n",
    "        val = ''\n",
    "        for i in range(len(temp_vals)):\n",
    "            val += temp_vals[i]\n",
    "        val = int(val)\n",
    "        #print(val, type(val))\n",
    "        return val\n",
    "    else:\n",
    "        print('Invalid input into str2int')\n",
    "    "
   ]
  },
  {
   "cell_type": "code",
   "execution_count": 280,
   "metadata": {},
   "outputs": [
    {
     "data": {
      "text/plain": [
       "True"
      ]
     },
     "execution_count": 280,
     "metadata": {},
     "output_type": "execute_result"
    }
   ],
   "source": [
    "'Auston Matthews' in stats_df.Player.values"
   ]
  },
  {
   "cell_type": "code",
   "execution_count": 349,
   "metadata": {},
   "outputs": [],
   "source": [
    "def player_comparison(stats_df, player):\n",
    "    player_df = stats_df[stats_df.Player == player]\n",
    "\n",
    "    \n",
    "    draft_yr = player_df['Draft Yr'].values[0]\n",
    "    #print(draft_yr)\n",
    "    draft_round = player_df.Round.values[0]\n",
    "    draft_overall = player_df.Overall.values[0]\n",
    "    \n",
    "    \n",
    "    \n",
    "    yr_df = stats_df[stats_df['Draft Yr'] == draft_yr]\n",
    "    yr_df['GPG'] = yr_df.G/stats_df.GP\n",
    "    yr_df['APG'] = yr_df.A/stats_df.GP\n",
    "    yr_df['PPG'] = yr_df.P/stats_df.GP\n",
    "    \n",
    "    player_df = yr_df[stats_df.Player == player]\n",
    "    \n",
    "    player_g = player_df.G.values[0]\n",
    "    player_gpg = player_df.GPG.values[0]\n",
    "    player_a = player_df.A.values[0]\n",
    "    player_apg = player_df.APG.values[0]\n",
    "    player_p = player_g + player_a\n",
    "    player_ppg = player_df.PPG.values[0]\n",
    "    \n",
    "    #find the averages first\n",
    "    #Goal Stats\n",
    "    (g_totals, player_count, leader) = stat_wanted(yr_df, draft_yr, 'G')\n",
    "    g_avg_class = sum(g_totals)/sum(player_count)\n",
    "    g_avg_round = g_totals[draft_round-1]/player_count[draft_round-1]\n",
    "    \n",
    "    (gpg_totals, player_count, leader) = stat_wanted(yr_df, draft_yr, 'GPG')\n",
    "    gpg_avg_class = sum(gpg_totals)/sum(player_count)\n",
    "    gpg_avg_round = gpg_totals[draft_round-1]/player_count[draft_round-1]\n",
    "    \n",
    "    #Assist Stats\n",
    "    (a_totals, player_count, leader) = stat_wanted(yr_df, draft_yr, 'A')\n",
    "    a_avg_class = sum(a_totals)/sum(player_count)\n",
    "    a_avg_round = a_totals[draft_round-1]/player_count[draft_round-1]\n",
    "    \n",
    "    (apg_totals, player_count, leader) = stat_wanted(yr_df, draft_yr, 'APG')\n",
    "    apg_avg_class = sum(apg_totals)/sum(player_count)\n",
    "    apg_avg_round = apg_totals[draft_round-1]/player_count[draft_round-1]\n",
    "    \n",
    "    #Point Stats\n",
    "    p_totals = g_totals + a_totals\n",
    "    p_avg_class = sum(p_totals)/sum(player_count)\n",
    "    p_avg_round = p_totals[draft_round-1]/player_count[draft_round-1]\n",
    "    \n",
    "    (ppg_totals, player_count, leader) = stat_wanted(yr_df, draft_yr, 'PPG')\n",
    "    ppg_avg_class = sum(ppg_totals)/sum(player_count)\n",
    "    ppg_avg_round = ppg_totals[draft_round-1]/player_count[draft_round-1]\n",
    "    \n",
    "    #Obtaining a list with the comparisons\n",
    "    g_vals = [player_g, g_avg_class, (player_g - g_avg_class), g_avg_round, (player_g - g_avg_round)]\n",
    "    gpg_vals = [player_gpg, gpg_avg_class, (player_gpg - gpg_avg_class), gpg_avg_round, (player_gpg - gpg_avg_round)]\n",
    "    \n",
    "    a_vals = [player_a, a_avg_class, (player_a - a_avg_class), a_avg_round, (player_a - a_avg_round)]\n",
    "    apg_vals = [player_apg, apg_avg_class, (player_apg - apg_avg_class), apg_avg_round, (player_apg - apg_avg_round)]\n",
    "    \n",
    "    p_vals = [player_p, p_avg_class, (player_p - p_avg_class), p_avg_round, (player_p - p_avg_round)]\n",
    "    ppg_vals = [player_ppg, ppg_avg_class, (player_ppg - ppg_avg_class), ppg_avg_round, (player_ppg - ppg_avg_round)]\n",
    "    \n",
    "    return(g_vals, gpg_vals, a_vals, apg_vals, p_vals, ppg_vals)\n",
    "    #a_ordered_df = yr_df.sort_values(P, ascending = False).reset_index()\n",
    "    #g_ordered_df = yr_df.sort_values(G, ascending = False).reset_index()"
   ]
  },
  {
   "cell_type": "code",
   "execution_count": 357,
   "metadata": {},
   "outputs": [
    {
     "name": "stdout",
     "output_type": "stream",
     "text": [
      "2015\n",
      "[0.46153846153846156, 0.12841474458365562, 0.3331237169548059, 0.20196412185623616, 0.25957433968222543]\n"
     ]
    },
    {
     "name": "stderr",
     "output_type": "stream",
     "text": [
      "/Users/lucaleustean/opt/anaconda3/lib/python3.7/site-packages/ipykernel_launcher.py:11: SettingWithCopyWarning: \n",
      "A value is trying to be set on a copy of a slice from a DataFrame.\n",
      "Try using .loc[row_indexer,col_indexer] = value instead\n",
      "\n",
      "See the caveats in the documentation: http://pandas.pydata.org/pandas-docs/stable/user_guide/indexing.html#returning-a-view-versus-a-copy\n",
      "  # This is added back by InteractiveShellApp.init_path()\n",
      "/Users/lucaleustean/opt/anaconda3/lib/python3.7/site-packages/ipykernel_launcher.py:12: SettingWithCopyWarning: \n",
      "A value is trying to be set on a copy of a slice from a DataFrame.\n",
      "Try using .loc[row_indexer,col_indexer] = value instead\n",
      "\n",
      "See the caveats in the documentation: http://pandas.pydata.org/pandas-docs/stable/user_guide/indexing.html#returning-a-view-versus-a-copy\n",
      "  if sys.path[0] == '':\n",
      "/Users/lucaleustean/opt/anaconda3/lib/python3.7/site-packages/ipykernel_launcher.py:13: SettingWithCopyWarning: \n",
      "A value is trying to be set on a copy of a slice from a DataFrame.\n",
      "Try using .loc[row_indexer,col_indexer] = value instead\n",
      "\n",
      "See the caveats in the documentation: http://pandas.pydata.org/pandas-docs/stable/user_guide/indexing.html#returning-a-view-versus-a-copy\n",
      "  del sys.path[0]\n",
      "/Users/lucaleustean/opt/anaconda3/lib/python3.7/site-packages/ipykernel_launcher.py:15: UserWarning: Boolean Series key will be reindexed to match DataFrame index.\n",
      "  from ipykernel import kernelapp as app\n"
     ]
    }
   ],
   "source": [
    "(g_vals, gpg_vals, a_vals, apg_vals, p_vals, ppg_vals) = player_comparison(stats_df, 'Connor McDavid')\n",
    "print(gpg_vals)"
   ]
  },
  {
   "cell_type": "code",
   "execution_count": 358,
   "metadata": {},
   "outputs": [
    {
     "name": "stdout",
     "output_type": "stream",
     "text": [
      "<bound method DataFrame.info of       index             Player S/C Pos         DOB        Birth City S/P Ctry  \\\n",
      "0         0        Antti Aalto   L   C  1975-03-04      Lappeenranta  --  FIN   \n",
      "1         2  Justin Abdelkader   L   L  1987-02-25          Muskegon  MI  USA   \n",
      "2         4       Pontus Aberg   R   L  1993-09-23         Stockholm  --  SWE   \n",
      "3         5     Dennis Abgrall   R   R  1953-04-24           Tisdale  SK  CAN   \n",
      "4         6         Ramzi Abid   L   L  1980-03-24          Montreal  QC  CAN   \n",
      "...     ...                ...  ..  ..         ...               ...  ..  ...   \n",
      "4501     56     Dainius Zubrus   L   C  1978-06-16        Elektrenai  --  LTU   \n",
      "4502     58       Jason Zucker   L   L  1992-01-16     Newport Beach  CA  USA   \n",
      "4503     59          Mike Zuke   R   C  1954-04-16  Sault Ste. Marie  ON  CAN   \n",
      "4504     60     Valentin Zykov   R   L  1995-05-15    St. Petersburg  --  RUS   \n",
      "4505     61      Andrei Zyuzin   L   D  1978-01-21               Ufa  --  RUS   \n",
      "\n",
      "     Ntnlty  Ht   Wt Draft Yr Round Overall  1st Season HOF    GP    G    A  \\\n",
      "0       FIN  74  214     1993     6     134    19971998   N   151   11   17   \n",
      "1       USA  74  213     2005     2      42    20072008   N   739  106  146   \n",
      "2       SWE  72  194     2012     2      37    20162017   N   132   17   27   \n",
      "3       CAN  73  180     1973     5      70    19751976   N    13    0    2   \n",
      "4       CAN  74  210     2000     3      85    20022003   N    68   14   16   \n",
      "...     ...  ..  ...      ...   ...     ...         ...  ..   ...  ...  ...   \n",
      "4501    LTU  77  225     1996     1      15    19961997   N  1293  228  363   \n",
      "4502    USA  71  192     2010     2      59    20112012   N   471  138  117   \n",
      "4503    CAN  72  180     1974     5      79    19781979   N   455   86  196   \n",
      "4504    RUS  72  220     2013     2      37    20162017   N    55    7   10   \n",
      "4505    RUS  73  208     1996     1       2    19971998   N   496   38   82   \n",
      "\n",
      "        P  \n",
      "0      28  \n",
      "1     252  \n",
      "2      44  \n",
      "3       2  \n",
      "4      30  \n",
      "...   ...  \n",
      "4501  591  \n",
      "4502  255  \n",
      "4503  282  \n",
      "4504   17  \n",
      "4505  120  \n",
      "\n",
      "[4506 rows x 20 columns]>\n"
     ]
    }
   ],
   "source": [
    "print(stats_df.info)"
   ]
  },
  {
   "cell_type": "code",
   "execution_count": null,
   "metadata": {},
   "outputs": [],
   "source": []
  }
 ],
 "metadata": {
  "kernelspec": {
   "display_name": "Python 3",
   "language": "python",
   "name": "python3"
  },
  "language_info": {
   "codemirror_mode": {
    "name": "ipython",
    "version": 3
   },
   "file_extension": ".py",
   "mimetype": "text/x-python",
   "name": "python",
   "nbconvert_exporter": "python",
   "pygments_lexer": "ipython3",
   "version": "3.7.4"
  }
 },
 "nbformat": 4,
 "nbformat_minor": 2
}
